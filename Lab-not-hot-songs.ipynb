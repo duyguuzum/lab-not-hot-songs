{
 "cells": [
  {
   "cell_type": "markdown",
   "metadata": {},
   "source": [
    "![Ironhack logo](https://i.imgur.com/1QgrNNw.png)\n",
    "\n",
    "# Lab | Not hot songs\n",
    "\n",
    "## Introduction\n",
    "\n",
    "Now that you have scrapped the website [Billboard](https://www.billboard.com/charts/hot-100/) to create a *hot_songs* dataset, it's time to prepare a new dataset of *not_hot_songs*. This dataset can contain songs of your choice, others collected from the web or any other combination. Some sources of songs can be:\n",
    "\n",
    "* [Wikipedia](https://en.wikipedia.org/wiki/Lists_of_songs)\n",
    "* [Subset of million songs dataset](http://millionsongdataset.com/pages/getting-dataset/#subset) *Note:* this dataset takes several GB of disk space!!!\n",
    "* [Kaggle](https://www.kaggle.com/datasets/mrmorj/dataset-of-songs-in-spotify)\n",
    "* Your favourite songs included in the Trello board as long as they are not hot songs :)\n",
    "\n",
    "## Considerations\n",
    "\n",
    "You want your dataset of not_hot_song to be:\n",
    "\n",
    "* As heterogeneous in terms of (genre, length,...etc) as possible to create better groups of songs.\n",
    "* Not too big and not too small (typically around 2-3K) songs\n",
    "\n",
    "In a real-life scenario, you might want to have your dataset as biggest as possible and use specialized Big Data techniques like [PySpark](https://spark.apache.org/docs/latest/api/python/) to group similar songs together. However, you are going to work on your own laptop which has limited power. Therefore, you need to limit the size of your dataset of not_hot_songs otherwise the process of grouping similar songs will take forever.\n",
    "\n",
    "## Deliverables\n",
    "\n",
    "Your fork should contain a jupyter notebook with the code to:\n",
    "\n",
    "* Gather the songs\n",
    "* Remove songs already present in the hot_songs dataset"
   ]
  },
  {
   "cell_type": "code",
   "execution_count": 1,
   "metadata": {},
   "outputs": [
    {
     "data": {
      "text/html": [
       "<div>\n",
       "<style scoped>\n",
       "    .dataframe tbody tr th:only-of-type {\n",
       "        vertical-align: middle;\n",
       "    }\n",
       "\n",
       "    .dataframe tbody tr th {\n",
       "        vertical-align: top;\n",
       "    }\n",
       "\n",
       "    .dataframe thead th {\n",
       "        text-align: right;\n",
       "    }\n",
       "</style>\n",
       "<table border=\"1\" class=\"dataframe\">\n",
       "  <thead>\n",
       "    <tr style=\"text-align: right;\">\n",
       "      <th></th>\n",
       "      <th>Index</th>\n",
       "      <th>Highest Charting Position</th>\n",
       "      <th>Number of Times Charted</th>\n",
       "      <th>Week of Highest Charting</th>\n",
       "      <th>Song Name</th>\n",
       "      <th>Streams</th>\n",
       "      <th>Artist</th>\n",
       "      <th>Artist Followers</th>\n",
       "      <th>Song ID</th>\n",
       "      <th>Genre</th>\n",
       "      <th>...</th>\n",
       "      <th>Danceability</th>\n",
       "      <th>Energy</th>\n",
       "      <th>Loudness</th>\n",
       "      <th>Speechiness</th>\n",
       "      <th>Acousticness</th>\n",
       "      <th>Liveness</th>\n",
       "      <th>Tempo</th>\n",
       "      <th>Duration (ms)</th>\n",
       "      <th>Valence</th>\n",
       "      <th>Chord</th>\n",
       "    </tr>\n",
       "  </thead>\n",
       "  <tbody>\n",
       "    <tr>\n",
       "      <th>0</th>\n",
       "      <td>1</td>\n",
       "      <td>1</td>\n",
       "      <td>8</td>\n",
       "      <td>2021-07-23--2021-07-30</td>\n",
       "      <td>Beggin'</td>\n",
       "      <td>48,633,449</td>\n",
       "      <td>Måneskin</td>\n",
       "      <td>3377762</td>\n",
       "      <td>3Wrjm47oTz2sjIgck11l5e</td>\n",
       "      <td>['indie rock italiano', 'italian pop']</td>\n",
       "      <td>...</td>\n",
       "      <td>0.714</td>\n",
       "      <td>0.8</td>\n",
       "      <td>-4.808</td>\n",
       "      <td>0.0504</td>\n",
       "      <td>0.127</td>\n",
       "      <td>0.359</td>\n",
       "      <td>134.002</td>\n",
       "      <td>211560</td>\n",
       "      <td>0.589</td>\n",
       "      <td>B</td>\n",
       "    </tr>\n",
       "  </tbody>\n",
       "</table>\n",
       "<p>1 rows × 23 columns</p>\n",
       "</div>"
      ],
      "text/plain": [
       "   Index  Highest Charting Position  Number of Times Charted  \\\n",
       "0      1                          1                        8   \n",
       "\n",
       "  Week of Highest Charting Song Name     Streams    Artist Artist Followers  \\\n",
       "0   2021-07-23--2021-07-30   Beggin'  48,633,449  Måneskin          3377762   \n",
       "\n",
       "                  Song ID                                   Genre  ...  \\\n",
       "0  3Wrjm47oTz2sjIgck11l5e  ['indie rock italiano', 'italian pop']  ...   \n",
       "\n",
       "  Danceability Energy Loudness Speechiness Acousticness Liveness    Tempo  \\\n",
       "0        0.714    0.8   -4.808      0.0504        0.127    0.359  134.002   \n",
       "\n",
       "  Duration (ms) Valence Chord  \n",
       "0        211560   0.589     B  \n",
       "\n",
       "[1 rows x 23 columns]"
      ]
     },
     "execution_count": 1,
     "metadata": {},
     "output_type": "execute_result"
    }
   ],
   "source": [
    "import pandas as pd\n",
    "\n",
    "# Read the CSV file into a DataFrame\n",
    "not_hot_df = pd.read_csv('not_hot.csv')\n",
    "\n",
    "# Display the DataFrame\n",
    "not_hot_df.head(1)\n",
    "\n"
   ]
  },
  {
   "cell_type": "code",
   "execution_count": 2,
   "metadata": {},
   "outputs": [
    {
     "data": {
      "text/html": [
       "<div>\n",
       "<style scoped>\n",
       "    .dataframe tbody tr th:only-of-type {\n",
       "        vertical-align: middle;\n",
       "    }\n",
       "\n",
       "    .dataframe tbody tr th {\n",
       "        vertical-align: top;\n",
       "    }\n",
       "\n",
       "    .dataframe thead th {\n",
       "        text-align: right;\n",
       "    }\n",
       "</style>\n",
       "<table border=\"1\" class=\"dataframe\">\n",
       "  <thead>\n",
       "    <tr style=\"text-align: right;\">\n",
       "      <th></th>\n",
       "      <th>Song</th>\n",
       "      <th>Artist</th>\n",
       "    </tr>\n",
       "  </thead>\n",
       "  <tbody>\n",
       "    <tr>\n",
       "      <th>0</th>\n",
       "      <td>Vampire</td>\n",
       "      <td>Olivia Rodrigo</td>\n",
       "    </tr>\n",
       "  </tbody>\n",
       "</table>\n",
       "</div>"
      ],
      "text/plain": [
       "      Song          Artist\n",
       "0  Vampire  Olivia Rodrigo"
      ]
     },
     "execution_count": 2,
     "metadata": {},
     "output_type": "execute_result"
    }
   ],
   "source": [
    "import pandas as pd\n",
    "\n",
    "# Load the CSV file into a DataFrame\n",
    "hot_df = pd.read_csv('hot_df.csv')\n",
    "\n",
    "# Display the DataFrame\n",
    "hot_df.head(1)"
   ]
  },
  {
   "cell_type": "code",
   "execution_count": 3,
   "metadata": {},
   "outputs": [],
   "source": [
    "not_hot_df_new = not_hot_df[['Artist', 'Song Name']]"
   ]
  },
  {
   "cell_type": "code",
   "execution_count": 4,
   "metadata": {},
   "outputs": [],
   "source": [
    "not_hot_df_cleaned = not_hot_df_new.rename(columns={'Artist': 'artist', 'Song Name': 'song'})"
   ]
  },
  {
   "cell_type": "code",
   "execution_count": 5,
   "metadata": {},
   "outputs": [],
   "source": [
    "hot_df_cleaned = hot_df.rename(columns={\"Song\":\"song\", \"Artist\":\"artist\"})"
   ]
  },
  {
   "cell_type": "code",
   "execution_count": 6,
   "metadata": {},
   "outputs": [],
   "source": [
    "not_hot_df_cleaned = not_hot_df_cleaned[['song', 'artist']]"
   ]
  },
  {
   "cell_type": "code",
   "execution_count": 7,
   "metadata": {},
   "outputs": [
    {
     "data": {
      "text/html": [
       "<div>\n",
       "<style scoped>\n",
       "    .dataframe tbody tr th:only-of-type {\n",
       "        vertical-align: middle;\n",
       "    }\n",
       "\n",
       "    .dataframe tbody tr th {\n",
       "        vertical-align: top;\n",
       "    }\n",
       "\n",
       "    .dataframe thead th {\n",
       "        text-align: right;\n",
       "    }\n",
       "</style>\n",
       "<table border=\"1\" class=\"dataframe\">\n",
       "  <thead>\n",
       "    <tr style=\"text-align: right;\">\n",
       "      <th></th>\n",
       "      <th>song</th>\n",
       "      <th>artist</th>\n",
       "    </tr>\n",
       "  </thead>\n",
       "  <tbody>\n",
       "    <tr>\n",
       "      <th>0</th>\n",
       "      <td>Beggin'</td>\n",
       "      <td>Måneskin</td>\n",
       "    </tr>\n",
       "    <tr>\n",
       "      <th>1</th>\n",
       "      <td>STAY (with Justin Bieber)</td>\n",
       "      <td>The Kid LAROI</td>\n",
       "    </tr>\n",
       "  </tbody>\n",
       "</table>\n",
       "</div>"
      ],
      "text/plain": [
       "                        song         artist\n",
       "0                    Beggin'       Måneskin\n",
       "1  STAY (with Justin Bieber)  The Kid LAROI"
      ]
     },
     "execution_count": 7,
     "metadata": {},
     "output_type": "execute_result"
    }
   ],
   "source": [
    "not_hot_df_cleaned.head(2)"
   ]
  },
  {
   "cell_type": "code",
   "execution_count": 8,
   "metadata": {},
   "outputs": [
    {
     "data": {
      "text/html": [
       "<div>\n",
       "<style scoped>\n",
       "    .dataframe tbody tr th:only-of-type {\n",
       "        vertical-align: middle;\n",
       "    }\n",
       "\n",
       "    .dataframe tbody tr th {\n",
       "        vertical-align: top;\n",
       "    }\n",
       "\n",
       "    .dataframe thead th {\n",
       "        text-align: right;\n",
       "    }\n",
       "</style>\n",
       "<table border=\"1\" class=\"dataframe\">\n",
       "  <thead>\n",
       "    <tr style=\"text-align: right;\">\n",
       "      <th></th>\n",
       "      <th>song</th>\n",
       "      <th>artist</th>\n",
       "    </tr>\n",
       "  </thead>\n",
       "  <tbody>\n",
       "    <tr>\n",
       "      <th>0</th>\n",
       "      <td>Vampire</td>\n",
       "      <td>Olivia Rodrigo</td>\n",
       "    </tr>\n",
       "    <tr>\n",
       "      <th>1</th>\n",
       "      <td>Last Night</td>\n",
       "      <td>Morgan Wallen</td>\n",
       "    </tr>\n",
       "  </tbody>\n",
       "</table>\n",
       "</div>"
      ],
      "text/plain": [
       "         song          artist\n",
       "0     Vampire  Olivia Rodrigo\n",
       "1  Last Night   Morgan Wallen"
      ]
     },
     "execution_count": 8,
     "metadata": {},
     "output_type": "execute_result"
    }
   ],
   "source": [
    "hot_df_cleaned.head(2)"
   ]
  },
  {
   "cell_type": "code",
   "execution_count": 9,
   "metadata": {},
   "outputs": [],
   "source": [
    "concatenated_df = pd.concat([hot_df_cleaned, not_hot_df_cleaned])"
   ]
  },
  {
   "cell_type": "code",
   "execution_count": 10,
   "metadata": {},
   "outputs": [
    {
     "data": {
      "text/plain": [
       "song      1655\n",
       "artist     772\n",
       "dtype: int64"
      ]
     },
     "execution_count": 10,
     "metadata": {},
     "output_type": "execute_result"
    }
   ],
   "source": [
    "unique_counts = concatenated_df.nunique()\n",
    "unique_counts"
   ]
  },
  {
   "cell_type": "code",
   "execution_count": 11,
   "metadata": {},
   "outputs": [
    {
     "data": {
      "text/plain": [
       "False"
      ]
     },
     "execution_count": 11,
     "metadata": {},
     "output_type": "execute_result"
    }
   ],
   "source": [
    "duplicates = concatenated_df.duplicated()\n",
    "has_duplicates = duplicates.any()\n",
    "has_duplicates"
   ]
  },
  {
   "cell_type": "code",
   "execution_count": null,
   "metadata": {},
   "outputs": [],
   "source": []
  }
 ],
 "metadata": {
  "kernelspec": {
   "display_name": "Python 3 (ipykernel)",
   "language": "python",
   "name": "python3"
  },
  "language_info": {
   "codemirror_mode": {
    "name": "ipython",
    "version": 3
   },
   "file_extension": ".py",
   "mimetype": "text/x-python",
   "name": "python",
   "nbconvert_exporter": "python",
   "pygments_lexer": "ipython3",
   "version": "3.10.9"
  }
 },
 "nbformat": 4,
 "nbformat_minor": 2
}
